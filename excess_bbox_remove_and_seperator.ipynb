{
 "cells": [
  {
   "cell_type": "code",
   "execution_count": 5,
   "metadata": {},
   "outputs": [],
   "source": [
    "from pandas import read_csv\n",
    "from os import listdir\n",
    "import cv2\n",
    "import numpy as np"
   ]
  },
  {
   "cell_type": "code",
   "execution_count": 6,
   "metadata": {},
   "outputs": [],
   "source": [
    "## converts the percent positions into integer positions\n",
    "# def unconvert(width, height, x, y, w, h):\n",
    "#     xmin = int(x*width)\n",
    "#     xmax = int(y*width)\n",
    "#     ymin = int(w*height)\n",
    "#     ymax = int(h*height)\n",
    "#     return (abs(xmin), abs(xmax), abs(ymin), abs(ymax))\n",
    "\n",
    "def unconvert(width, height, x, y, w, h):\n",
    "    xmin = x*width\n",
    "    xmax = y*width\n",
    "    ymin = w*height\n",
    "    ymax = h*height\n",
    "    return xmin, xmax, ymin, ymax\n",
    "\n",
    "\n",
    "def get_max_iou(pred_boxes, gt_box):\n",
    "    if pred_boxes.shape[0] > 0:\n",
    "        ixmin = np.maximum(pred_boxes[:, 0], gt_box[0])\n",
    "        ixmax = np.minimum(pred_boxes[:, 2], gt_box[2])\n",
    "        iymin = np.maximum(pred_boxes[:, 1], gt_box[1])\n",
    "        iymax = np.minimum(pred_boxes[:, 3], gt_box[3])\n",
    "        \n",
    "        ###########\n",
    "        iw = np.maximum(ixmax - ixmin + 1., 0.)\n",
    "        ih = np.maximum(iymax - iymin + 1., 0.)\n",
    "\n",
    "        inters = iw * ih\n",
    "    # calculates Union \n",
    "        uni = ((pred_boxes[:, 2] - pred_boxes[:, 0] + 1.) * (pred_boxes[:, 3] - pred_boxes[:, 1] + 1.) + (gt_box[2] - gt_box[0] + 1.) * (gt_box[3] - gt_box[1] + 1.) - inters)\n",
    "    # calculates Max of two areas\n",
    "        ###########\n",
    "#         iw = np.maximum(ixmax - ixmin + 1., 0.)\n",
    "#         ih = np.maximum(iymax - iymin + 1., 0.)\n",
    "\n",
    "#         inters = abs(iw * ih)\n",
    "#         # calculates Union \n",
    "#         uni = ((pred_boxes[:, 2] - pred_boxes[:, 0] + 1.) * (pred_boxes[:, 3] - pred_boxes[:, 1] + 1.) + (gt_box[2] - gt_box[0] + 1.) * (gt_box[3] - gt_box[1] + 1.) - inters)\n",
    "        # calculates Max of two areas\n",
    "#         uni = np.maximum((pred_boxes[:, 2] - pred_boxes[:, 0] + 1.) * (pred_boxes[:, 3] - pred_boxes[:, 1] + 1.), (gt_box[2] - gt_box[0] + 1.) * (gt_box[3] - gt_box[1] + 1.))\n",
    "        iou = inters / uni\n",
    "        iou = iou.tolist()\n",
    "        iou_max = np.max(iou)\n",
    "        nmax = np.argmax(iou)\n",
    "        return iou, iou_max, nmax"
   ]
  },
  {
   "cell_type": "code",
   "execution_count": 7,
   "metadata": {},
   "outputs": [],
   "source": [
    "def read_all_images(data_dir, annot_dir):\n",
    "    df = read_csv(annot_dir)\n",
    "    data_folders = listdir(data_dir)\n",
    "    img_list = df.ImageID.tolist()\n",
    "    image_list = []                                      \n",
    "    for folder in data_folders:\n",
    "        if folder.endswith('.csv') or folder.endswith('.ipynb'):\n",
    "            continue\n",
    "        image_folder_dir = data_dir + '/' + folder\n",
    "        images = listdir(image_folder_dir)\n",
    "        for image in images:\n",
    "            if image.endswith('.jpg') and image[:-4] in img_list:\n",
    "                image_path = image_folder_dir + '/' + image\n",
    "                image_ = cv2.imread(image_path)\n",
    "                height, width, channels = image_.shape\n",
    "                image_data = df.loc[(df['ImageID'] == image[0:-4])]\n",
    "                ind = [index for index, row in image_data.iterrows()]\n",
    "                bx = [unconvert(width, height, row['XMin'], row['XMax'], row['YMin'], row['YMax']) for index, row in image_data.iterrows()]\n",
    "                bx = np.array(bx)\n",
    "                counter = 0\n",
    "                for index, row in image_data.iterrows():\n",
    "                    if counter < len(bx):\n",
    "                        iou, iou_max, nmax = get_max_iou(bx, bx[counter])\n",
    "                        image_data['ImageID']\n",
    "                        to_remove = []\n",
    "                        for i in range(len(iou)):\n",
    "                            if i is not counter and iou[i] > .7:\n",
    "                                to_remove.append(i)  \n",
    "                        for i in to_remove[::-1]:\n",
    "                            df = df.drop([ind[i]])\n",
    "                            ind = ind[:i] + ind[i+1 :]\n",
    "                            bx = bx.tolist()\n",
    "                            bx = bx[:i] + bx[i+1:]\n",
    "                            bx = np.array(bx)\n",
    "                        counter += 1\n",
    "                    else:\n",
    "                        break\n",
    "    df.to_csv('E:/CEMTREX/testing/exported_csv.csv',index=False)"
   ]
  },
  {
   "cell_type": "code",
   "execution_count": 8,
   "metadata": {
    "scrolled": true
   },
   "outputs": [
    {
     "name": "stderr",
     "output_type": "stream",
     "text": [
      "c:\\users\\_kale\\pycharmprojects\\first\\venv\\lib\\site-packages\\ipykernel_launcher.py:41: RuntimeWarning: invalid value encountered in true_divide\n"
     ]
    }
   ],
   "source": [
    "annot_dir = 'O:/daaaCEMTREX/openImgCSv/v6/labels/validation-annotations-bbox.csv'\n",
    "data_dir = 'O:/daaaCEMTREX/openImgCSv/v6/open_data/val_present/'\n",
    "read_all_images(data_dir, annot_dir)"
   ]
  },
  {
   "cell_type": "code",
   "execution_count": 9,
   "metadata": {},
   "outputs": [],
   "source": [
    "import pandas as pd\n",
    "import os as os\n",
    "import numpy as np\n",
    "\n",
    "exp_annot_dir = 'E:/CEMTREX/testing/exported_csv.csv'\n",
    "df = pd.read_csv(exp_annot_dir)\n",
    "df.head\n",
    "data_folders = os.listdir(data_dir)\n",
    "i = 0\n",
    "for folder in data_folders:\n",
    "    # import pdb; pdb.set_trace()\n",
    "    if folder.endswith('.csv') or folder.endswith('.ipynb'):\n",
    "        continue\n",
    "    image_folder_dir = data_dir + '/' + folder\n",
    "    images = os.listdir(image_folder_dir)\n",
    "    image_list = [i[:-4] for i in images]\n",
    "    new_df = df[df['ImageID'].isin(image_list)]\n",
    "    class_df = pd.read_csv(\"O:/downloads/required_classes.csv\")\n",
    "    class_list = class_df.ClassID.tolist()\n",
    "    # print(class_list)\n",
    "    n1 = new_df[(new_df[\"LabelName\"].isin(class_list))]\n",
    "    \n",
    "#     n2 = n1.replace(('/m/01bl7v','/m/03bt1vf','/m/04yx4','/m/05r655',),'/m/01g317') #renaming man,women,boy,girl to person\n",
    "#     n3 = n2.replace(('/m/01lcw4','','',''),'')\n",
    "    n1.to_csv(image_folder_dir+'/'+folder+\".csv\")\n",
    "    i = i+1\n",
    "    if i ==2:break\n",
    "        "
   ]
  },
  {
   "cell_type": "code",
   "execution_count": null,
   "metadata": {},
   "outputs": [],
   "source": []
  }
 ],
 "metadata": {
  "kernelspec": {
   "display_name": "Python 3",
   "language": "python",
   "name": "python3"
  },
  "language_info": {
   "codemirror_mode": {
    "name": "ipython",
    "version": 3
   },
   "file_extension": ".py",
   "mimetype": "text/x-python",
   "name": "python",
   "nbconvert_exporter": "python",
   "pygments_lexer": "ipython3",
   "version": "3.7.8"
  }
 },
 "nbformat": 4,
 "nbformat_minor": 4
}
