{
 "cells": [
  {
   "cell_type": "code",
   "execution_count": 35,
   "metadata": {},
   "outputs": [],
   "source": [
    "import pandas as pd\n",
    "import os as os\n",
    "import numpy as np"
   ]
  },
  {
   "cell_type": "code",
   "execution_count": 44,
   "metadata": {},
   "outputs": [],
   "source": [
    "data_dir = 'O:/daaaCEMTREX/openImgCSv/v6/open_data/val_present'"
   ]
  },
  {
   "cell_type": "code",
   "execution_count": 45,
   "metadata": {},
   "outputs": [
    {
     "name": "stdout",
     "output_type": "stream",
     "text": [
      "open_v007 open_v006\n",
      "[]\n",
      "open_v008 open_v006\n",
      "[]\n",
      "open_v009 open_v006\n",
      "[]\n",
      "open_v010 open_v006\n",
      "[]\n",
      "open_v011 open_v006\n",
      "[]\n",
      "open_v012 open_v006\n",
      "[]\n",
      "open_v008 open_v007\n",
      "[]\n",
      "open_v009 open_v007\n",
      "[]\n",
      "open_v010 open_v007\n",
      "[]\n",
      "open_v011 open_v007\n",
      "[]\n",
      "open_v012 open_v007\n",
      "[]\n",
      "open_v009 open_v008\n",
      "[]\n",
      "open_v010 open_v008\n",
      "[]\n",
      "open_v011 open_v008\n",
      "[]\n",
      "open_v012 open_v008\n",
      "[]\n",
      "open_v010 open_v009\n",
      "['01f8886b50a031a1.jpg' '04a27da7e880ddcd.jpg' '0b30ad1afeba9bca.jpg'\n",
      " '0b8b9d6b70643ef1.jpg' '0b9189a792a2ea3a.jpg' '0bd32a5f3acd0f06.jpg'\n",
      " '0c82bfd1f18ed1ea.jpg' '0ee38e79c504fe1c.jpg' '0ef79b5cdf728e01.jpg'\n",
      " '0f2358e793950ca0.jpg' '0fd42fdd6970fbf3.jpg' '1a656e26cff1c3f1.jpg'\n",
      " '1b2c1d18a5469167.jpg' '1bea4a97a9cfe442.jpg' '1ca31caadd6eee48.jpg'\n",
      " '1cce79aa26653f1c.jpg' '1d29f87aecc95bf6.jpg' '1db949d7ae2c8bca.jpg'\n",
      " '1f3c5e626f8a84a0.jpg' '1fab886d6d4533a4.jpg' '2a88eacde5cf421e.jpg'\n",
      " '2b1f2c95be4c43a8.jpg' '2b96210e388009ff.jpg' '2bb96f284897ad60.jpg'\n",
      " '2d4447c12b6c9b9e.jpg' '2e445dbd3720d2e4.jpg' '2f147ecc413804db.jpg'\n",
      " '3b07aa735c8c698c.jpg' '3bb70c0267942681.jpg' '3bbda944ea0d5c4f.jpg'\n",
      " '3c080d87e09970fc.jpg' '3e09ba39a3959166.jpg' '3e64c730b49d1b7f.jpg'\n",
      " '3e7d95d9fd61b760.jpg' '3ed90a8c0c2f58a8.jpg']\n",
      "open_v011 open_v009\n",
      "[]\n",
      "open_v012 open_v009\n",
      "[]\n",
      "open_v011 open_v010\n",
      "[]\n",
      "open_v012 open_v010\n",
      "[]\n",
      "open_v012 open_v011\n",
      "[]\n"
     ]
    }
   ],
   "source": [
    "data_folders = os.listdir(data_dir)\n",
    "data_folders\n",
    "f1 = []\n",
    "i= 0\n",
    "for folder in data_folders:\n",
    "        if folder.endswith('.csv') or folder.endswith('.ipynb'):\n",
    "            continue\n",
    "        image_folder_di = data_dir + '/' + folder\n",
    "        images =os.listdir(image_folder_di)\n",
    "        for fold in data_folders:\n",
    "            if fold ==folder or fold in f1:\n",
    "                f1.append(fold)\n",
    "                continue\n",
    "            print(fold,folder)\n",
    "            image_folder_dir= data_dir + '/' + fold\n",
    "            img = os.listdir(image_folder_dir)\n",
    "            npa = np.intersect1d(images,img)\n",
    "            print(npa)\n",
    "            for i in range(0,len(npa)):\n",
    "                os.remove(image_folder_dir+'/'+ npa[i])\n",
    "                i = i+1"
   ]
  },
  {
   "cell_type": "code",
   "execution_count": 13,
   "metadata": {},
   "outputs": [
    {
     "name": "stdout",
     "output_type": "stream",
     "text": [
      "[ 9 11 26 28]\n"
     ]
    }
   ],
   "source": [
    "lst1 = [4, 9, 1, 17, 11, 26, 28, 54, 69] \n",
    "lst2 = [9, 9, 74, 21, 45, 11, 63, 28, 26] \n",
    "print(np.intersect1d(lst1, lst2)) "
   ]
  },
  {
   "cell_type": "code",
   "execution_count": null,
   "metadata": {},
   "outputs": [],
   "source": []
  }
 ],
 "metadata": {
  "kernelspec": {
   "display_name": "Python 3",
   "language": "python",
   "name": "python3"
  },
  "language_info": {
   "codemirror_mode": {
    "name": "ipython",
    "version": 3
   },
   "file_extension": ".py",
   "mimetype": "text/x-python",
   "name": "python",
   "nbconvert_exporter": "python",
   "pygments_lexer": "ipython3",
   "version": "3.7.8"
  }
 },
 "nbformat": 4,
 "nbformat_minor": 4
}
