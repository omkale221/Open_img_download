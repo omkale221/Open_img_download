{
 "cells": [
  {
   "cell_type": "code",
   "execution_count": 38,
   "metadata": {},
   "outputs": [],
   "source": [
    "import pandas as pd\n",
    "import numpy as np\n",
    "import os as os\n",
    "import shutil "
   ]
  },
  {
   "cell_type": "code",
   "execution_count": null,
   "metadata": {},
   "outputs": [],
   "source": []
  },
  {
   "cell_type": "code",
   "execution_count": 48,
   "metadata": {},
   "outputs": [
    {
     "data": {
      "text/plain": [
       "490"
      ]
     },
     "execution_count": 48,
     "metadata": {},
     "output_type": "execute_result"
    }
   ],
   "source": [
    "#########################TOTAL NUMBER OF IMAGES REQUIRED TO COMPLETE SETS\n",
    "data_dir = 'O:/daaaCEMTREX/openImgCSv/v6/open_data/train_absent/'\n",
    "data_folders = os.listdir(data_dir)\n",
    "\n",
    "x=0\n",
    "for folder in data_folders:\n",
    "        if folder.endswith('.csv') or folder.endswith('.ipynb') or folder.endswith('ply'):\n",
    "            continue\n",
    "        image_folder_dir = data_dir + '/' + folder\n",
    "        images = os.listdir(image_folder_dir)\n",
    "        count = len(images)\n",
    "        needed = 500 - count\n",
    "        x = x+needed\n",
    "x        "
   ]
  },
  {
   "cell_type": "code",
   "execution_count": 25,
   "metadata": {},
   "outputs": [
    {
     "data": {
      "text/plain": [
       "'open_v2'"
      ]
     },
     "execution_count": 25,
     "metadata": {},
     "output_type": "execute_result"
    }
   ],
   "source": [
    "data_dir = 'O:/daaaCEMTREX/openImgCSv/v6/open_data/train_absent/'\n",
    "data_folders = os.listdir(data_dir)\n",
    "needy_folders = data_folders[:-1]\n",
    "# print(needy_folders)\n",
    "for folder in needy_folders:\n",
    "    image_folder_dir = data_dir + '/' + folder\n",
    "    supply_folder = data_dir + '/' +data_folders[-1]\n",
    "    images = os.listdir(image_folder_dir)\n",
    "    imgs = os.listdir(supply_folder)\n",
    "    count = len(images)\n",
    "    needed = 500 - count\n",
    "    i = 0\n",
    "    for i in range(needed):\n",
    "        shutil.move(supply_folder+'/'+imgs[i],image_folder_dir)\n",
    "        i = i+1"
   ]
  },
  {
   "cell_type": "code",
   "execution_count": 28,
   "metadata": {},
   "outputs": [
    {
     "data": {
      "text/plain": [
       "'02dd2b4773fd3364.jpg'"
      ]
     },
     "execution_count": 28,
     "metadata": {},
     "output_type": "execute_result"
    }
   ],
   "source": [
    "imgs[0]"
   ]
  },
  {
   "cell_type": "code",
   "execution_count": null,
   "metadata": {},
   "outputs": [],
   "source": []
  }
 ],
 "metadata": {
  "kernelspec": {
   "display_name": "Python 3",
   "language": "python",
   "name": "python3"
  },
  "language_info": {
   "codemirror_mode": {
    "name": "ipython",
    "version": 3
   },
   "file_extension": ".py",
   "mimetype": "text/x-python",
   "name": "python",
   "nbconvert_exporter": "python",
   "pygments_lexer": "ipython3",
   "version": "3.7.8"
  }
 },
 "nbformat": 4,
 "nbformat_minor": 4
}
